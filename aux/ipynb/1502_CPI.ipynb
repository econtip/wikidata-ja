{
 "metadata": {
  "name": "",
  "signature": "sha256:2a596564b50556a18b1353bf8da8d1afd8a8372fbcda7a8413480a1bb75dbace"
 },
 "nbformat": 3,
 "nbformat_minor": 0,
 "worksheets": [
  {
   "cells": [
    {
     "cell_type": "heading",
     "level": 1,
     "metadata": {},
     "source": [
      "\u6d88\u8cbb\u8005\u7269\u4fa1\u6307\u6570\u306e\u524d\u5e74\u540c\u6708\u6bd4"
     ]
    },
    {
     "cell_type": "markdown",
     "metadata": {},
     "source": [
      "## econtip\n",
      "\n",
      "2015\u5e742\u670812\u65e5\n",
      "\n",
      "[\u7d4c\u6e08\u307e\u3081\u77e5\u8b58](http://econ.mokuren.ne.jp/wiki)"
     ]
    },
    {
     "cell_type": "markdown",
     "metadata": {},
     "source": [
      "\u6d88\u8cbb\u8005\u7269\u4fa1\u6307\u6570\u306b\u5bfe\u3059\u308b\u6d88\u8cbb\u7a0e\u306e\u5f71\u97ff\u306b\u3064\u3044\u3066\u30b0\u30e9\u30d5\u3092\u63cf\u3044\u3066\u307f\u305f"
     ]
    },
    {
     "cell_type": "markdown",
     "metadata": {},
     "source": [
      "##\u53c2\u8003\n",
      "\n",
      "*  [\u6d88\u8cbb\u8005\u7269\u4fa1\u6307\u6570\u306b\u95a2\u3059\u308b\uff31\uff06\uff21\uff08\u56de\u7b54\uff09\uff08\u7dcf\u52d9\u7701\u7d71\u8a08\u5c40\uff09](http://www.stat.go.jp/data/cpi/4-1.htm)\n",
      "* [\u5e73\u621022\u5e74\u57fa\u6e96\u6d88\u8cbb\u8005\u7269\u4fa1\u6307\u6570 \u9577\u671f\u6642\u7cfb\u5217\u30c7\u30fc\u30bf \u54c1\u76ee\u5225\u4fa1\u683c\u6307\u6570 \u5168\u56fd \u6708\u6b21](http://www.e-stat.go.jp/SG1/estat/List.do?bid=000001033702&cycode=0)\n",
      "* [\u5185\u95a3\u5e9c \u6d88\u8cbb\u7a0e\u7387\u5f15\u4e0a\u3052\u5f8c\u306e\u6d88\u8cbb\u8005\u7269\u4fa1\uff08\u6771\u4eac\u90fd\u533a\u90e8\uff09\u306e\u52d5\u5411](http://www5.cao.go.jp/keizai3/shihyo/2014/0526/1097.html)\n",
      "* [\u6642\u4e8b\u30c9\u30c3\u30c8\u30b3\u30e0\u3010\u56f3\u89e3\u30fb\u7d4c\u6e08\u3011\u6d88\u8cbb\u8005\u7269\u4fa1\u6307\u6570\u306e\u63a8\u79fb\uff08\u6700\u65b0\uff09](http://www.jiji.com/jc/graphics?p=ve_eco_cpi)\n",
      "* [\u30a4\u30f3\u30bf\u30d3\u30e5\u30fc\uff1a2\uff05\u76ee\u6a19\u5b9f\u73fe\u306b\u306f\u66f4\u306a\u308b\u7de9\u548c\u5fc5\u8981\uff1d\u82e5\u7530\u90e8\u65e9\u5927\u6559\u6388](http://jp.reuters.com/article/topNews/idJPKCN0J92MQ20141126)"
     ]
    },
    {
     "cell_type": "heading",
     "level": 2,
     "metadata": {},
     "source": [
      "0. \u6e96\u5099"
     ]
    },
    {
     "cell_type": "code",
     "collapsed": false,
     "input": [
      "import numpy as np\n",
      "import pandas as pd\n",
      "import matplotlib.pyplot as plt\n",
      "import urllib2"
     ],
     "language": "python",
     "metadata": {},
     "outputs": [],
     "prompt_number": 1
    },
    {
     "cell_type": "code",
     "collapsed": false,
     "input": [
      "%matplotlib inline"
     ],
     "language": "python",
     "metadata": {},
     "outputs": [],
     "prompt_number": 2
    },
    {
     "cell_type": "heading",
     "level": 2,
     "metadata": {},
     "source": [
      "1. \u30c7\u30fc\u30bf\u53d6\u5f97"
     ]
    },
    {
     "cell_type": "code",
     "collapsed": false,
     "input": [
      "uri = 'http://www.e-stat.go.jp/SG1/estat/Csvdl.do?sinfid=000011288589'"
     ],
     "language": "python",
     "metadata": {},
     "outputs": [],
     "prompt_number": 3
    },
    {
     "cell_type": "code",
     "collapsed": false,
     "input": [
      "r = urllib2.urlopen(uri)\n",
      "df1 = pd.read_csv(r, encoding='sjis')\n",
      "r.close()"
     ],
     "language": "python",
     "metadata": {},
     "outputs": [],
     "prompt_number": 4
    },
    {
     "cell_type": "markdown",
     "metadata": {},
     "source": [
      "\u30c7\u30fc\u30bf\u306e\u6700\u521d\u306e\u65b9\u306e\u884c\u3092\u8868\u793a\u3057\u3066\u4e2d\u8eab\u3092\u78ba\u304b\u3081\u308b\u30021970\u5e74\u304b\u3089\u306e\u30c7\u30fc\u30bf\u306a\u306e\u3067\u3001\u5f53\u71361970\u5e74\u306f\u524d\u5e74\u540c\u6708\u6bd4\u306e\u6570\u5024\u306f\u306a\u3044\u3002"
     ]
    },
    {
     "cell_type": "code",
     "collapsed": false,
     "input": [
      "df1.ix[:10]"
     ],
     "language": "python",
     "metadata": {},
     "outputs": [
      {
       "html": [
        "<div style=\"max-height:1000px;max-width:1500px;overflow:auto;\">\n",
        "<table border=\"1\" class=\"dataframe\">\n",
        "  <thead>\n",
        "    <tr style=\"text-align: right;\">\n",
        "      <th></th>\n",
        "      <th>\u985e\u30fb\u54c1\u76ee</th>\n",
        "      <th>\u7dcf\u5408</th>\n",
        "      <th>\u751f\u9bae\u98df\u54c1\u3092\u9664\u304f\u7dcf\u5408</th>\n",
        "      <th>\u6301\u5bb6\u306e\u5e30\u5c5e\u5bb6\u8cc3\u3092\u9664\u304f\u7dcf\u5408</th>\n",
        "      <th>\u6301\u5bb6\u306e\u5e30\u5c5e\u5bb6\u8cc3\u53ca\u3073\u751f\u9bae\u98df\u54c1\u3092\u9664\u304f\u7dcf\u5408</th>\n",
        "      <th>\u98df\u6599\uff08\u9152\u985e\u3092\u9664\u304f\uff09\u53ca\u3073\u30a8\u30cd\u30eb\u30ae\u30fc\u3092\u9664\u304f\u7dcf\u5408</th>\n",
        "      <th>\u98df\u6599</th>\n",
        "      <th>\u751f\u9bae\u98df\u54c1</th>\n",
        "      <th>\u751f\u9bae\u98df\u54c1\u3092\u9664\u304f\u98df\u6599</th>\n",
        "      <th>\u7a40\u985e</th>\n",
        "      <th>...</th>\n",
        "      <th>\u8af8\u96d1\u8cbb</th>\n",
        "      <th>\u7406\u7f8e\u5bb9\u30b5\u30fc\u30d3\u30b9</th>\n",
        "      <th>\u7406\u7f8e\u5bb9\u7528\u54c1</th>\n",
        "      <th>\u8eab\u306e\u56de\u308a\u7528\u54c1</th>\n",
        "      <th>\u305f\u3070\u3053</th>\n",
        "      <th>\u4ed6\u306e\u8af8\u96d1\u8cbb</th>\n",
        "      <th>\u30a8\u30cd\u30eb\u30ae\u30fc</th>\n",
        "      <th>\u6559\u80b2\u95a2\u4fc2\u8cbb</th>\n",
        "      <th>\u6559\u990a\u5a2f\u697d\u95a2\u4fc2\u8cbb</th>\n",
        "      <th>\u60c5\u5831\u901a\u4fe1\u95a2\u4fc2\u8cbb</th>\n",
        "    </tr>\n",
        "  </thead>\n",
        "  <tbody>\n",
        "    <tr>\n",
        "      <th>0 </th>\n",
        "      <td>                 Group/Item</td>\n",
        "      <td>  All items</td>\n",
        "      <td> All items, less fresh food</td>\n",
        "      <td> All items, less imputed rent</td>\n",
        "      <td> All items, less imputed rent &amp; fresh food</td>\n",
        "      <td> All items, less food (less alcoholic beverages...</td>\n",
        "      <td>      Food</td>\n",
        "      <td> Fresh food</td>\n",
        "      <td> Food, less fresh food</td>\n",
        "      <td>  Cereals</td>\n",
        "      <td>...</td>\n",
        "      <td> Miscellaneous</td>\n",
        "      <td> Personal care services</td>\n",
        "      <td> Toilet articles</td>\n",
        "      <td> Personal effects</td>\n",
        "      <td>  Tobacco</td>\n",
        "      <td> Other miscellaneous</td>\n",
        "      <td>    Energy</td>\n",
        "      <td> Expenses for education</td>\n",
        "      <td> Expenses for culture &amp; recreation</td>\n",
        "      <td> Expenses for information &amp; communication</td>\n",
        "    </tr>\n",
        "    <tr>\n",
        "      <th>1 </th>\n",
        "      <td>    \u985e\u30fb\u54c1\u76ee\u7b26\u53f7(Group/Item code)</td>\n",
        "      <td>       0001</td>\n",
        "      <td>                       0161</td>\n",
        "      <td>                         0163</td>\n",
        "      <td>                                      0166</td>\n",
        "      <td>                                              0168</td>\n",
        "      <td>      0002</td>\n",
        "      <td>       0157</td>\n",
        "      <td>                  0172</td>\n",
        "      <td>     0003</td>\n",
        "      <td>...</td>\n",
        "      <td>          0145</td>\n",
        "      <td>                   0146</td>\n",
        "      <td>            0147</td>\n",
        "      <td>             0151</td>\n",
        "      <td>     0155</td>\n",
        "      <td>                0156</td>\n",
        "      <td>      0167</td>\n",
        "      <td>                   0162</td>\n",
        "      <td>                              0173</td>\n",
        "      <td>                                     0169</td>\n",
        "    </tr>\n",
        "    <tr>\n",
        "      <th>2 </th>\n",
        "      <td>       \u542b\u985e\u7dcf\u9023\u756a(Serial number)</td>\n",
        "      <td>        001</td>\n",
        "      <td>                        740</td>\n",
        "      <td>                          742</td>\n",
        "      <td>                                       745</td>\n",
        "      <td>                                               747</td>\n",
        "      <td>       002</td>\n",
        "      <td>        736</td>\n",
        "      <td>                   741</td>\n",
        "      <td>      003</td>\n",
        "      <td>...</td>\n",
        "      <td>           681</td>\n",
        "      <td>                    682</td>\n",
        "      <td>             689</td>\n",
        "      <td>              713</td>\n",
        "      <td>      725</td>\n",
        "      <td>                 728</td>\n",
        "      <td>       746</td>\n",
        "      <td>                    748</td>\n",
        "      <td>                               749</td>\n",
        "      <td>                                      750</td>\n",
        "    </tr>\n",
        "    <tr>\n",
        "      <th>3 </th>\n",
        "      <td>               \u30a6\u30a8\u30a4\u30c8(Weight)</td>\n",
        "      <td> 3157986390</td>\n",
        "      <td>                 3032966069</td>\n",
        "      <td>                   2665834914</td>\n",
        "      <td>                                2540814593</td>\n",
        "      <td>                                        2156138193</td>\n",
        "      <td> 797528399</td>\n",
        "      <td>  125020321</td>\n",
        "      <td>             672508078</td>\n",
        "      <td> 68469210</td>\n",
        "      <td>...</td>\n",
        "      <td>     179635015</td>\n",
        "      <td>               37344406</td>\n",
        "      <td>        43764297</td>\n",
        "      <td>         19974306</td>\n",
        "      <td> 16643680</td>\n",
        "      <td>            61908326</td>\n",
        "      <td> 243745915</td>\n",
        "      <td>              130460394</td>\n",
        "      <td>                         391175486</td>\n",
        "      <td>                                148323958</td>\n",
        "    </tr>\n",
        "    <tr>\n",
        "      <th>4 </th>\n",
        "      <td> \u30a6\u30a8\u30a4\u30c8\uff11\u4e07\u5206\u6bd4(Weight per 10000)</td>\n",
        "      <td>      10000</td>\n",
        "      <td>                       9604</td>\n",
        "      <td>                         8442</td>\n",
        "      <td>                                      8046</td>\n",
        "      <td>                                              6828</td>\n",
        "      <td>      2525</td>\n",
        "      <td>        396</td>\n",
        "      <td>                  2130</td>\n",
        "      <td>      217</td>\n",
        "      <td>...</td>\n",
        "      <td>           569</td>\n",
        "      <td>                    118</td>\n",
        "      <td>             139</td>\n",
        "      <td>               63</td>\n",
        "      <td>       53</td>\n",
        "      <td>                 196</td>\n",
        "      <td>       772</td>\n",
        "      <td>                    413</td>\n",
        "      <td>                              1239</td>\n",
        "      <td>                                      470</td>\n",
        "    </tr>\n",
        "    <tr>\n",
        "      <th>5 </th>\n",
        "      <td>                     197001</td>\n",
        "      <td>        NaN</td>\n",
        "      <td>                        NaN</td>\n",
        "      <td>                          NaN</td>\n",
        "      <td>                                       NaN</td>\n",
        "      <td>                                               NaN</td>\n",
        "      <td>       NaN</td>\n",
        "      <td>        NaN</td>\n",
        "      <td>                   NaN</td>\n",
        "      <td>      NaN</td>\n",
        "      <td>...</td>\n",
        "      <td>           NaN</td>\n",
        "      <td>                    NaN</td>\n",
        "      <td>             NaN</td>\n",
        "      <td>              NaN</td>\n",
        "      <td>      NaN</td>\n",
        "      <td>                 NaN</td>\n",
        "      <td>       NaN</td>\n",
        "      <td>                    NaN</td>\n",
        "      <td>                               NaN</td>\n",
        "      <td>                                      NaN</td>\n",
        "    </tr>\n",
        "    <tr>\n",
        "      <th>6 </th>\n",
        "      <td>                     197002</td>\n",
        "      <td>        NaN</td>\n",
        "      <td>                        NaN</td>\n",
        "      <td>                          NaN</td>\n",
        "      <td>                                       NaN</td>\n",
        "      <td>                                               NaN</td>\n",
        "      <td>       NaN</td>\n",
        "      <td>        NaN</td>\n",
        "      <td>                   NaN</td>\n",
        "      <td>      NaN</td>\n",
        "      <td>...</td>\n",
        "      <td>           NaN</td>\n",
        "      <td>                    NaN</td>\n",
        "      <td>             NaN</td>\n",
        "      <td>              NaN</td>\n",
        "      <td>      NaN</td>\n",
        "      <td>                 NaN</td>\n",
        "      <td>       NaN</td>\n",
        "      <td>                    NaN</td>\n",
        "      <td>                               NaN</td>\n",
        "      <td>                                      NaN</td>\n",
        "    </tr>\n",
        "    <tr>\n",
        "      <th>7 </th>\n",
        "      <td>                     197003</td>\n",
        "      <td>        NaN</td>\n",
        "      <td>                        NaN</td>\n",
        "      <td>                          NaN</td>\n",
        "      <td>                                       NaN</td>\n",
        "      <td>                                               NaN</td>\n",
        "      <td>       NaN</td>\n",
        "      <td>        NaN</td>\n",
        "      <td>                   NaN</td>\n",
        "      <td>      NaN</td>\n",
        "      <td>...</td>\n",
        "      <td>           NaN</td>\n",
        "      <td>                    NaN</td>\n",
        "      <td>             NaN</td>\n",
        "      <td>              NaN</td>\n",
        "      <td>      NaN</td>\n",
        "      <td>                 NaN</td>\n",
        "      <td>       NaN</td>\n",
        "      <td>                    NaN</td>\n",
        "      <td>                               NaN</td>\n",
        "      <td>                                      NaN</td>\n",
        "    </tr>\n",
        "    <tr>\n",
        "      <th>8 </th>\n",
        "      <td>                     197004</td>\n",
        "      <td>        NaN</td>\n",
        "      <td>                        NaN</td>\n",
        "      <td>                          NaN</td>\n",
        "      <td>                                       NaN</td>\n",
        "      <td>                                               NaN</td>\n",
        "      <td>       NaN</td>\n",
        "      <td>        NaN</td>\n",
        "      <td>                   NaN</td>\n",
        "      <td>      NaN</td>\n",
        "      <td>...</td>\n",
        "      <td>           NaN</td>\n",
        "      <td>                    NaN</td>\n",
        "      <td>             NaN</td>\n",
        "      <td>              NaN</td>\n",
        "      <td>      NaN</td>\n",
        "      <td>                 NaN</td>\n",
        "      <td>       NaN</td>\n",
        "      <td>                    NaN</td>\n",
        "      <td>                               NaN</td>\n",
        "      <td>                                      NaN</td>\n",
        "    </tr>\n",
        "    <tr>\n",
        "      <th>9 </th>\n",
        "      <td>                     197005</td>\n",
        "      <td>        NaN</td>\n",
        "      <td>                        NaN</td>\n",
        "      <td>                          NaN</td>\n",
        "      <td>                                       NaN</td>\n",
        "      <td>                                               NaN</td>\n",
        "      <td>       NaN</td>\n",
        "      <td>        NaN</td>\n",
        "      <td>                   NaN</td>\n",
        "      <td>      NaN</td>\n",
        "      <td>...</td>\n",
        "      <td>           NaN</td>\n",
        "      <td>                    NaN</td>\n",
        "      <td>             NaN</td>\n",
        "      <td>              NaN</td>\n",
        "      <td>      NaN</td>\n",
        "      <td>                 NaN</td>\n",
        "      <td>       NaN</td>\n",
        "      <td>                    NaN</td>\n",
        "      <td>                               NaN</td>\n",
        "      <td>                                      NaN</td>\n",
        "    </tr>\n",
        "    <tr>\n",
        "      <th>10</th>\n",
        "      <td>                     197006</td>\n",
        "      <td>        NaN</td>\n",
        "      <td>                        NaN</td>\n",
        "      <td>                          NaN</td>\n",
        "      <td>                                       NaN</td>\n",
        "      <td>                                               NaN</td>\n",
        "      <td>       NaN</td>\n",
        "      <td>        NaN</td>\n",
        "      <td>                   NaN</td>\n",
        "      <td>      NaN</td>\n",
        "      <td>...</td>\n",
        "      <td>           NaN</td>\n",
        "      <td>                    NaN</td>\n",
        "      <td>             NaN</td>\n",
        "      <td>              NaN</td>\n",
        "      <td>      NaN</td>\n",
        "      <td>                 NaN</td>\n",
        "      <td>       NaN</td>\n",
        "      <td>                    NaN</td>\n",
        "      <td>                               NaN</td>\n",
        "      <td>                                      NaN</td>\n",
        "    </tr>\n",
        "  </tbody>\n",
        "</table>\n",
        "<p>11 rows \u00d7 78 columns</p>\n",
        "</div>"
       ],
       "metadata": {},
       "output_type": "pyout",
       "prompt_number": 5,
       "text": [
        "                          \u985e\u30fb\u54c1\u76ee          \u7dcf\u5408                   \u751f\u9bae\u98df\u54c1\u3092\u9664\u304f\u7dcf\u5408  \\\n",
        "0                   Group/Item   All items  All items, less fresh food   \n",
        "1      \u985e\u30fb\u54c1\u76ee\u7b26\u53f7(Group/Item code)        0001                        0161   \n",
        "2         \u542b\u985e\u7dcf\u9023\u756a(Serial number)         001                         740   \n",
        "3                 \u30a6\u30a8\u30a4\u30c8(Weight)  3157986390                  3032966069   \n",
        "4   \u30a6\u30a8\u30a4\u30c8\uff11\u4e07\u5206\u6bd4(Weight per 10000)       10000                        9604   \n",
        "5                       197001         NaN                         NaN   \n",
        "6                       197002         NaN                         NaN   \n",
        "7                       197003         NaN                         NaN   \n",
        "8                       197004         NaN                         NaN   \n",
        "9                       197005         NaN                         NaN   \n",
        "10                      197006         NaN                         NaN   \n",
        "\n",
        "                    \u6301\u5bb6\u306e\u5e30\u5c5e\u5bb6\u8cc3\u3092\u9664\u304f\u7dcf\u5408                         \u6301\u5bb6\u306e\u5e30\u5c5e\u5bb6\u8cc3\u53ca\u3073\u751f\u9bae\u98df\u54c1\u3092\u9664\u304f\u7dcf\u5408  \\\n",
        "0   All items, less imputed rent  All items, less imputed rent & fresh food   \n",
        "1                           0163                                       0166   \n",
        "2                            742                                        745   \n",
        "3                     2665834914                                 2540814593   \n",
        "4                           8442                                       8046   \n",
        "5                            NaN                                        NaN   \n",
        "6                            NaN                                        NaN   \n",
        "7                            NaN                                        NaN   \n",
        "8                            NaN                                        NaN   \n",
        "9                            NaN                                        NaN   \n",
        "10                           NaN                                        NaN   \n",
        "\n",
        "                                \u98df\u6599\uff08\u9152\u985e\u3092\u9664\u304f\uff09\u53ca\u3073\u30a8\u30cd\u30eb\u30ae\u30fc\u3092\u9664\u304f\u7dcf\u5408         \u98df\u6599        \u751f\u9bae\u98df\u54c1  \\\n",
        "0   All items, less food (less alcoholic beverages...       Food  Fresh food   \n",
        "1                                                0168       0002        0157   \n",
        "2                                                 747        002         736   \n",
        "3                                          2156138193  797528399   125020321   \n",
        "4                                                6828       2525         396   \n",
        "5                                                 NaN        NaN         NaN   \n",
        "6                                                 NaN        NaN         NaN   \n",
        "7                                                 NaN        NaN         NaN   \n",
        "8                                                 NaN        NaN         NaN   \n",
        "9                                                 NaN        NaN         NaN   \n",
        "10                                                NaN        NaN         NaN   \n",
        "\n",
        "                \u751f\u9bae\u98df\u54c1\u3092\u9664\u304f\u98df\u6599        \u7a40\u985e    ...               \u8af8\u96d1\u8cbb  \\\n",
        "0   Food, less fresh food   Cereals    ...     Miscellaneous   \n",
        "1                    0172      0003    ...              0145   \n",
        "2                     741       003    ...               681   \n",
        "3               672508078  68469210    ...         179635015   \n",
        "4                    2130       217    ...               569   \n",
        "5                     NaN       NaN    ...               NaN   \n",
        "6                     NaN       NaN    ...               NaN   \n",
        "7                     NaN       NaN    ...               NaN   \n",
        "8                     NaN       NaN    ...               NaN   \n",
        "9                     NaN       NaN    ...               NaN   \n",
        "10                    NaN       NaN    ...               NaN   \n",
        "\n",
        "                   \u7406\u7f8e\u5bb9\u30b5\u30fc\u30d3\u30b9            \u7406\u7f8e\u5bb9\u7528\u54c1            \u8eab\u306e\u56de\u308a\u7528\u54c1       \u305f\u3070\u3053  \\\n",
        "0   Personal care services  Toilet articles  Personal effects   Tobacco   \n",
        "1                     0146             0147              0151      0155   \n",
        "2                      682              689               713       725   \n",
        "3                 37344406         43764297          19974306  16643680   \n",
        "4                      118              139                63        53   \n",
        "5                      NaN              NaN               NaN       NaN   \n",
        "6                      NaN              NaN               NaN       NaN   \n",
        "7                      NaN              NaN               NaN       NaN   \n",
        "8                      NaN              NaN               NaN       NaN   \n",
        "9                      NaN              NaN               NaN       NaN   \n",
        "10                     NaN              NaN               NaN       NaN   \n",
        "\n",
        "                  \u4ed6\u306e\u8af8\u96d1\u8cbb      \u30a8\u30cd\u30eb\u30ae\u30fc                   \u6559\u80b2\u95a2\u4fc2\u8cbb  \\\n",
        "0   Other miscellaneous     Energy  Expenses for education   \n",
        "1                  0156       0167                    0162   \n",
        "2                   728        746                     748   \n",
        "3              61908326  243745915               130460394   \n",
        "4                   196        772                     413   \n",
        "5                   NaN        NaN                     NaN   \n",
        "6                   NaN        NaN                     NaN   \n",
        "7                   NaN        NaN                     NaN   \n",
        "8                   NaN        NaN                     NaN   \n",
        "9                   NaN        NaN                     NaN   \n",
        "10                  NaN        NaN                     NaN   \n",
        "\n",
        "                              \u6559\u990a\u5a2f\u697d\u95a2\u4fc2\u8cbb  \\\n",
        "0   Expenses for culture & recreation   \n",
        "1                                0173   \n",
        "2                                 749   \n",
        "3                           391175486   \n",
        "4                                1239   \n",
        "5                                 NaN   \n",
        "6                                 NaN   \n",
        "7                                 NaN   \n",
        "8                                 NaN   \n",
        "9                                 NaN   \n",
        "10                                NaN   \n",
        "\n",
        "                                     \u60c5\u5831\u901a\u4fe1\u95a2\u4fc2\u8cbb  \n",
        "0   Expenses for information & communication  \n",
        "1                                       0169  \n",
        "2                                        750  \n",
        "3                                  148323958  \n",
        "4                                        470  \n",
        "5                                        NaN  \n",
        "6                                        NaN  \n",
        "7                                        NaN  \n",
        "8                                        NaN  \n",
        "9                                        NaN  \n",
        "10                                       NaN  \n",
        "\n",
        "[11 rows x 78 columns]"
       ]
      }
     ],
     "prompt_number": 5
    },
    {
     "cell_type": "markdown",
     "metadata": {},
     "source": [
      "\u7dcf\u5408\uff08CPI\uff09\u3001\u751f\u9bae\u98df\u54c1\u3092\u9664\u304f\u7dcf\u5408\uff08Core CPI\uff09\u3001\u98df\u6599\uff08\u9152\u985e\u3092\u9664\u304f\uff09\u53ca\u3073\u30a8\u30cd\u30eb\u30ae\u30fc\u3092\u9664\u304f\u7dcf\u5408\uff08Core Core CPI\uff09\u306e1970\u5e74\u4ee3\u304b\u3089\u306e\u30c7\u30fc\u30bf\u3092\u5207\u308a\u51fa\u3059\u3002"
     ]
    },
    {
     "cell_type": "code",
     "collapsed": false,
     "input": [
      "df2 = df1[df1.columns[[0,1,2,5]]].ix[5:]\n",
      "df3 = df2.set_index(df2.columns[0])\n",
      "df3.head()"
     ],
     "language": "python",
     "metadata": {},
     "outputs": [
      {
       "html": [
        "<div style=\"max-height:1000px;max-width:1500px;overflow:auto;\">\n",
        "<table border=\"1\" class=\"dataframe\">\n",
        "  <thead>\n",
        "    <tr style=\"text-align: right;\">\n",
        "      <th></th>\n",
        "      <th>\u7dcf\u5408</th>\n",
        "      <th>\u751f\u9bae\u98df\u54c1\u3092\u9664\u304f\u7dcf\u5408</th>\n",
        "      <th>\u98df\u6599\uff08\u9152\u985e\u3092\u9664\u304f\uff09\u53ca\u3073\u30a8\u30cd\u30eb\u30ae\u30fc\u3092\u9664\u304f\u7dcf\u5408</th>\n",
        "    </tr>\n",
        "    <tr>\n",
        "      <th>\u985e\u30fb\u54c1\u76ee</th>\n",
        "      <th></th>\n",
        "      <th></th>\n",
        "      <th></th>\n",
        "    </tr>\n",
        "  </thead>\n",
        "  <tbody>\n",
        "    <tr>\n",
        "      <th>197001</th>\n",
        "      <td> NaN</td>\n",
        "      <td> NaN</td>\n",
        "      <td> NaN</td>\n",
        "    </tr>\n",
        "    <tr>\n",
        "      <th>197002</th>\n",
        "      <td> NaN</td>\n",
        "      <td> NaN</td>\n",
        "      <td> NaN</td>\n",
        "    </tr>\n",
        "    <tr>\n",
        "      <th>197003</th>\n",
        "      <td> NaN</td>\n",
        "      <td> NaN</td>\n",
        "      <td> NaN</td>\n",
        "    </tr>\n",
        "    <tr>\n",
        "      <th>197004</th>\n",
        "      <td> NaN</td>\n",
        "      <td> NaN</td>\n",
        "      <td> NaN</td>\n",
        "    </tr>\n",
        "    <tr>\n",
        "      <th>197005</th>\n",
        "      <td> NaN</td>\n",
        "      <td> NaN</td>\n",
        "      <td> NaN</td>\n",
        "    </tr>\n",
        "  </tbody>\n",
        "</table>\n",
        "</div>"
       ],
       "metadata": {},
       "output_type": "pyout",
       "prompt_number": 6,
       "text": [
        "         \u7dcf\u5408 \u751f\u9bae\u98df\u54c1\u3092\u9664\u304f\u7dcf\u5408 \u98df\u6599\uff08\u9152\u985e\u3092\u9664\u304f\uff09\u53ca\u3073\u30a8\u30cd\u30eb\u30ae\u30fc\u3092\u9664\u304f\u7dcf\u5408\n",
        "\u985e\u30fb\u54c1\u76ee                                       \n",
        "197001  NaN       NaN                   NaN\n",
        "197002  NaN       NaN                   NaN\n",
        "197003  NaN       NaN                   NaN\n",
        "197004  NaN       NaN                   NaN\n",
        "197005  NaN       NaN                   NaN"
       ]
      }
     ],
     "prompt_number": 6
    },
    {
     "cell_type": "markdown",
     "metadata": {},
     "source": [
      "1971\u5e741\u6708\u304b\u308912\u6708\u306e\u30c7\u30fc\u30bf\u306f\u4ee5\u4e0b\u306e\u901a\u308a\u3002"
     ]
    },
    {
     "cell_type": "code",
     "collapsed": false,
     "input": [
      "df3['197101':'197112']"
     ],
     "language": "python",
     "metadata": {},
     "outputs": [
      {
       "html": [
        "<div style=\"max-height:1000px;max-width:1500px;overflow:auto;\">\n",
        "<table border=\"1\" class=\"dataframe\">\n",
        "  <thead>\n",
        "    <tr style=\"text-align: right;\">\n",
        "      <th></th>\n",
        "      <th>\u7dcf\u5408</th>\n",
        "      <th>\u751f\u9bae\u98df\u54c1\u3092\u9664\u304f\u7dcf\u5408</th>\n",
        "      <th>\u98df\u6599\uff08\u9152\u985e\u3092\u9664\u304f\uff09\u53ca\u3073\u30a8\u30cd\u30eb\u30ae\u30fc\u3092\u9664\u304f\u7dcf\u5408</th>\n",
        "    </tr>\n",
        "    <tr>\n",
        "      <th>\u985e\u30fb\u54c1\u76ee</th>\n",
        "      <th></th>\n",
        "      <th></th>\n",
        "      <th></th>\n",
        "    </tr>\n",
        "  </thead>\n",
        "  <tbody>\n",
        "    <tr>\n",
        "      <th>197101</th>\n",
        "      <td> 6.5</td>\n",
        "      <td> 6.1</td>\n",
        "      <td> 6.5</td>\n",
        "    </tr>\n",
        "    <tr>\n",
        "      <th>197102</th>\n",
        "      <td> 6.0</td>\n",
        "      <td> 6.1</td>\n",
        "      <td> 6.1</td>\n",
        "    </tr>\n",
        "    <tr>\n",
        "      <th>197103</th>\n",
        "      <td> 5.3</td>\n",
        "      <td> 6.3</td>\n",
        "      <td> 6.1</td>\n",
        "    </tr>\n",
        "    <tr>\n",
        "      <th>197104</th>\n",
        "      <td> 5.8</td>\n",
        "      <td> 6.6</td>\n",
        "      <td> 7.0</td>\n",
        "    </tr>\n",
        "    <tr>\n",
        "      <th>197105</th>\n",
        "      <td> 6.4</td>\n",
        "      <td> 7.3</td>\n",
        "      <td> 7.3</td>\n",
        "    </tr>\n",
        "    <tr>\n",
        "      <th>197106</th>\n",
        "      <td> 6.9</td>\n",
        "      <td> 7.6</td>\n",
        "      <td> 7.7</td>\n",
        "    </tr>\n",
        "    <tr>\n",
        "      <th>197107</th>\n",
        "      <td> 6.9</td>\n",
        "      <td> 7.3</td>\n",
        "      <td> 7.6</td>\n",
        "    </tr>\n",
        "    <tr>\n",
        "      <th>197108</th>\n",
        "      <td> 7.0</td>\n",
        "      <td> 7.1</td>\n",
        "      <td> 6.9</td>\n",
        "    </tr>\n",
        "    <tr>\n",
        "      <th>197109</th>\n",
        "      <td> 8.0</td>\n",
        "      <td> 7.0</td>\n",
        "      <td> 6.7</td>\n",
        "    </tr>\n",
        "    <tr>\n",
        "      <th>197110</th>\n",
        "      <td> 6.5</td>\n",
        "      <td> 6.3</td>\n",
        "      <td> 6.2</td>\n",
        "    </tr>\n",
        "    <tr>\n",
        "      <th>197111</th>\n",
        "      <td> 5.5</td>\n",
        "      <td> 6.0</td>\n",
        "      <td> 5.9</td>\n",
        "    </tr>\n",
        "    <tr>\n",
        "      <th>197112</th>\n",
        "      <td> 4.8</td>\n",
        "      <td> 5.5</td>\n",
        "      <td> 5.7</td>\n",
        "    </tr>\n",
        "  </tbody>\n",
        "</table>\n",
        "</div>"
       ],
       "metadata": {},
       "output_type": "pyout",
       "prompt_number": 7,
       "text": [
        "         \u7dcf\u5408 \u751f\u9bae\u98df\u54c1\u3092\u9664\u304f\u7dcf\u5408 \u98df\u6599\uff08\u9152\u985e\u3092\u9664\u304f\uff09\u53ca\u3073\u30a8\u30cd\u30eb\u30ae\u30fc\u3092\u9664\u304f\u7dcf\u5408\n",
        "\u985e\u30fb\u54c1\u76ee                                       \n",
        "197101  6.5       6.1                   6.5\n",
        "197102  6.0       6.1                   6.1\n",
        "197103  5.3       6.3                   6.1\n",
        "197104  5.8       6.6                   7.0\n",
        "197105  6.4       7.3                   7.3\n",
        "197106  6.9       7.6                   7.7\n",
        "197107  6.9       7.3                   7.6\n",
        "197108  7.0       7.1                   6.9\n",
        "197109  8.0       7.0                   6.7\n",
        "197110  6.5       6.3                   6.2\n",
        "197111  5.5       6.0                   5.9\n",
        "197112  4.8       5.5                   5.7"
       ]
      }
     ],
     "prompt_number": 7
    },
    {
     "cell_type": "markdown",
     "metadata": {},
     "source": [
      "\u30c7\u30fc\u30bf\u3092\u6574\u3048\u308b\u3002"
     ]
    },
    {
     "cell_type": "code",
     "collapsed": false,
     "input": [
      "df3.rename(index = lambda x: pd.Period(x, 'M'), inplace = True )\n",
      "df = df3.applymap(lambda x: float(x))\n",
      "df.columns = ['CPI', 'Core CPI', 'Core Core CPI']\n",
      "df.index.name = 'Year'"
     ],
     "language": "python",
     "metadata": {},
     "outputs": [],
     "prompt_number": 8
    },
    {
     "cell_type": "heading",
     "level": 2,
     "metadata": {},
     "source": [
      "2. \u6d88\u8cbb\u8005\u7269\u4fa1\u6307\u6570\uff08\u7dcf\u5408\u3001\u30b3\u30a2\u3001\u30b3\u30a2\u30b3\u30a2\uff09\u306e\u30b0\u30e9\u30d5"
     ]
    },
    {
     "cell_type": "markdown",
     "metadata": {},
     "source": [
      "1980\u5e741\u6708\u4ee5\u964d\u306e\u524d\u5e74\u540c\u6708\u6bd4"
     ]
    },
    {
     "cell_type": "code",
     "collapsed": false,
     "input": [
      "df['1980-01':].plot()"
     ],
     "language": "python",
     "metadata": {},
     "outputs": [
      {
       "metadata": {},
       "output_type": "pyout",
       "prompt_number": 9,
       "text": [
        "<matplotlib.axes._subplots.AxesSubplot at 0x109e9dd10>"
       ]
      },
      {
       "metadata": {},
       "output_type": "display_data",
       "png": "[encoded data removed]",
       "text": [
        "<matplotlib.figure.Figure at 0x107a1ef50>"
       ]
      }
     ],
     "prompt_number": 9
    },
    {
     "cell_type": "markdown",
     "metadata": {},
     "source": [
      "1997\u5e744\u6708\u304b\u30891998\u5e743\u6708\u307e\u3067\u306e\u6570\u5024\u304c\u5927\u304d\u304f\u306a\u3063\u3066\u3044\u308b\u306e\u306f\u5897\u7a0e\u524d\u306e1\u5e74\u524d\u3068\u6bd4\u8f03\u3057\u3066\u3044\u308b\u305f\u3081\u3067\u3001\u6d88\u8cbb\u7a0e\u5897\u7a0e\u306e\u52b9\u679c\u3002"
     ]
    },
    {
     "cell_type": "code",
     "collapsed": false,
     "input": [
      "df['1995-01':'2000-12'].plot()\n",
      "plt.vlines(pd.Period('1997-04'), -2, 5, 'k', linestyles='dashed', lw = '1')\n",
      "plt.vlines(pd.Period('1998-03'), -2, 5, 'k', linestyles='dashed', lw = '1')"
     ],
     "language": "python",
     "metadata": {},
     "outputs": [
      {
       "metadata": {},
       "output_type": "pyout",
       "prompt_number": 10,
       "text": [
        "<matplotlib.collections.LineCollection at 0x109f43110>"
       ]
      },
      {
       "metadata": {},
       "output_type": "display_data",
       "png": "[encoded data removed]",
       "text": [
        "<matplotlib.figure.Figure at 0x109f3bc10>"
       ]
      }
     ],
     "prompt_number": 10
    },
    {
     "cell_type": "heading",
     "level": 2,
     "metadata": {},
     "source": [
      "3. \u6d88\u8cbb\u7a0e\u5897\u7a0e\u306e\u6d88\u8cbb\u8005\u7269\u4fa1\u6307\u6570\u3078\u306e\u5bc4\u4e0e\u306e\u88dc\u6b63"
     ]
    },
    {
     "cell_type": "markdown",
     "metadata": {},
     "source": [
      "\u65e5\u9280\u8a66\u7b97\u306b\u3088\u308b\u3068\u3001\u6d88\u8cbb\u7a0e\u5897\u7a0e\u306e\u6d88\u8cbb\u8005\u7269\u4fa1\u6307\u6570\uff08\u30b3\u30a2\uff09\u3078\u306e\u5bc4\u4e0e\u306f2%\u30dd\u30a4\u30f3\u30c8\u3068\u306e\u3053\u3068\u306a\u306e\u3067\u3001\u3053\u306e\u5bc4\u4e0e\u3092\u9664\u3044\u305f\u30b0\u30e9\u30d5\u3092\u63cf\u3044\u3066\u307f\u308b\u3002"
     ]
    },
    {
     "cell_type": "code",
     "collapsed": true,
     "input": [
      "data = [0.0]*24 + [2.0]*9\n",
      "tax_effect = pd.Series(data=data, index=df['2012-04':'2014-12'].index)\n",
      "adjustedCCPI = df['2012-04':'2014-12']['Core CPI'] - tax_effect\n",
      "adjustedCCPI.plot(color='g')\n",
      "plt.vlines(pd.Period('2014-04'), -1, 2, 'k', linestyles='dashed', lw = '1')"
     ],
     "language": "python",
     "metadata": {},
     "outputs": [
      {
       "metadata": {},
       "output_type": "pyout",
       "prompt_number": 11,
       "text": [
        "<matplotlib.collections.LineCollection at 0x10a370790>"
       ]
      },
      {
       "metadata": {},
       "output_type": "display_data",
       "png": "[encoded data removed]",
       "text": [
        "<matplotlib.figure.Figure at 0x10a370f90>"
       ]
      }
     ],
     "prompt_number": 11
    },
    {
     "cell_type": "heading",
     "level": 2,
     "metadata": {},
     "source": [
      "4. \u6d88\u8cbb\u7a0e\u5897\u7a0e\u306e\u6d88\u8cbb\u8005\u7269\u4fa1\u6307\u6570\u3078\u306e\u5bc4\u4e0e\u306e\u88dc\u6b63\uff08\u72ec\u81ea\u8a66\u7b97\uff09"
     ]
    },
    {
     "cell_type": "markdown",
     "metadata": {},
     "source": [
      "\u307e\u305a\u3001\u5897\u7a0e\u306e\u5bc4\u4e0e\u3092\u88dc\u6b63\u3057\u306a\u3044\u3082\u306e\u3092\u78ba\u8a8d\u3057\u3066\u304a\u304f\u3002"
     ]
    },
    {
     "cell_type": "code",
     "collapsed": false,
     "input": [
      "ax = df['2012-04':'2014-12'].plot()\n",
      "ax.vlines(pd.Period('2014-04'), -2, 4, 'k', linestyles='dashed', lw = '1')"
     ],
     "language": "python",
     "metadata": {},
     "outputs": [
      {
       "metadata": {},
       "output_type": "pyout",
       "prompt_number": 12,
       "text": [
        "<matplotlib.collections.LineCollection at 0x109f43fd0>"
       ]
      },
      {
       "metadata": {},
       "output_type": "display_data",
       "png": "[encoded data removed]",
       "text": [
        "<matplotlib.figure.Figure at 0x109f43ad0>"
       ]
      }
     ],
     "prompt_number": 12
    },
    {
     "cell_type": "markdown",
     "metadata": {},
     "source": [
      "\u540c\u3058\u5e74\u306e3\u6708\u30684\u6708\u3067\u3001\u6d88\u8cbb\u8005\u7269\u4fa1\u6307\u6570\u524d\u5e74\u540c\u6708\u6bd4\u306e\u9055\u3044\u306b\u3064\u3044\u3066\u8abf\u3079\u308b\u30023\u6708\u3092\u6a2a\u8ef8\u306b\u30014\u6708\u3092\u6a2a\u8ef8\u306b\u6563\u5e03\u56f3\u3092\u63cf\u304f\u3068\u4ee5\u4e0b\u306e\u3088\u3046\u306b\u306a\u308b\u3002\u4e0a\u306b\u4e8c\u3064\u5916\u308c\u3066\u3044\u308b\u306e\u306f\u6d88\u8cbb\u7a0e\u5897\u7a0e\u306e\u5e74\u306e\u3082\u306e\u3067\u3042\u308d\u3046\u3002\u6982\u306d\u9055\u3044\u306f\u898b\u3089\u308c\u306a\u3044\u3002"
     ]
    },
    {
     "cell_type": "code",
     "collapsed": false,
     "input": [
      "fig = plt.figure(figsize=(12,3))\n",
      "dfMar = df['1990-03'::12]; dfApr = df['1990-04'::12]\n",
      "titles = ['CPI', 'Core CPI', 'Core Core CPI']\n",
      "for i in range(3):\n",
      "    ax0 = fig.add_subplot(1,3,i+1, aspect=1)\n",
      "    ax0.scatter(dfMar[[i]], dfApr[[i]])\n",
      "    ax0.plot([-2,4], [-2,4], 'r')\n",
      "    ax0.set_title(titles[i])\n",
      "    ax0.set_xlabel('Mar'); ax0.set_ylabel('Apr')"
     ],
     "language": "python",
     "metadata": {},
     "outputs": [
      {
       "metadata": {},
       "output_type": "display_data",
       "png": "[encoded data removed]",
       "text": [
        "<matplotlib.figure.Figure at 0x10b068090>"
       ]
      }
     ],
     "prompt_number": 13
    },
    {
     "cell_type": "markdown",
     "metadata": {},
     "source": [
      "2014\u5e74\u306e3\u6708\u30684\u6708\u306e\u6d88\u8cbb\u8005\u7269\u4fa1\u6307\u6570\u524d\u5e74\u540c\u6708\u6bd4\u3092\u6bd4\u3079\u308b\u3002"
     ]
    },
    {
     "cell_type": "code",
     "collapsed": false,
     "input": [
      "df['2014-03':'2014-04']"
     ],
     "language": "python",
     "metadata": {},
     "outputs": [
      {
       "html": [
        "<div style=\"max-height:1000px;max-width:1500px;overflow:auto;\">\n",
        "<table border=\"1\" class=\"dataframe\">\n",
        "  <thead>\n",
        "    <tr style=\"text-align: right;\">\n",
        "      <th></th>\n",
        "      <th>CPI</th>\n",
        "      <th>Core CPI</th>\n",
        "      <th>Core Core CPI</th>\n",
        "    </tr>\n",
        "    <tr>\n",
        "      <th>Year</th>\n",
        "      <th></th>\n",
        "      <th></th>\n",
        "      <th></th>\n",
        "    </tr>\n",
        "  </thead>\n",
        "  <tbody>\n",
        "    <tr>\n",
        "      <th>2014-03</th>\n",
        "      <td> 1.6</td>\n",
        "      <td> 1.3</td>\n",
        "      <td> 0.7</td>\n",
        "    </tr>\n",
        "    <tr>\n",
        "      <th>2014-04</th>\n",
        "      <td> 3.4</td>\n",
        "      <td> 3.2</td>\n",
        "      <td> 2.3</td>\n",
        "    </tr>\n",
        "  </tbody>\n",
        "</table>\n",
        "</div>"
       ],
       "metadata": {},
       "output_type": "pyout",
       "prompt_number": 14,
       "text": [
        "         CPI  Core CPI  Core Core CPI\n",
        "Year                                 \n",
        "2014-03  1.6       1.3            0.7\n",
        "2014-04  3.4       3.2            2.3"
       ]
      }
     ],
     "prompt_number": 14
    },
    {
     "cell_type": "code",
     "collapsed": false,
     "input": [
      "df['2014-04'].as_matrix() - df['2014-03'].as_matrix()"
     ],
     "language": "python",
     "metadata": {},
     "outputs": [
      {
       "metadata": {},
       "output_type": "pyout",
       "prompt_number": 15,
       "text": [
        "array([[ 1.8,  1.9,  1.6]])"
       ]
      }
     ],
     "prompt_number": 15
    },
    {
     "cell_type": "markdown",
     "metadata": {},
     "source": [
      "\u5f37\u5f15\u304b\u3082\u77e5\u308c\u306a\u3044\u304c\u30011.8\u30011.9\u30011.6 \u3092\u5897\u7a0e\u306e\u5bc4\u4e0e\u3068\u898b\u7a4d\u3082\u3063\u3066\u30b0\u30e9\u30d5\u3092\u63cf\u3044\u3066\u307f\u308b\u3002"
     ]
    },
    {
     "cell_type": "code",
     "collapsed": false,
     "input": [
      "d = [0.0]*24 + [1.8]*9\n",
      "d_c = [0.0]*24 + [1.9]*9\n",
      "d_cc = [0.0]*24 + [1.6]*9\n",
      "tax_effect_et = pd.DataFrame(data={'CPI': d, 'Core CPI': d_c, 'Core Core CPI': d_cc}, \n",
      "                          index=df['2012-04':'2014-12'].index)\n",
      "adjustedCCPs_et = df['2012-04':'2014-12'] - tax_effect_et"
     ],
     "language": "python",
     "metadata": {},
     "outputs": [],
     "prompt_number": 16
    },
    {
     "cell_type": "code",
     "collapsed": false,
     "input": [
      "adjustedCCPs_et.plot()\n",
      "plt.vlines(pd.Period('2014-04'), -1, 3, 'k', linestyles='dashed', lw = '1')"
     ],
     "language": "python",
     "metadata": {},
     "outputs": [
      {
       "metadata": {},
       "output_type": "pyout",
       "prompt_number": 17,
       "text": [
        "<matplotlib.collections.LineCollection at 0x10a77b110>"
       ]
      },
      {
       "metadata": {},
       "output_type": "display_data",
       "png": "[encoded data removed]",
       "text": [
        "<matplotlib.figure.Figure at 0x109f587d0>"
       ]
      }
     ],
     "prompt_number": 17
    }
   ],
   "metadata": {}
  }
 ]
}