{
 "metadata": {
  "name": "",
  "signature": "sha256:cc7054324089446f1ab8790206b2544552eebf733f89dd079a8b11212ccc9b5c"
 },
 "nbformat": 3,
 "nbformat_minor": 0,
 "worksheets": [
  {
   "cells": [
    {
     "cell_type": "heading",
     "level": 1,
     "metadata": {},
     "source": [
      "\u56fd\u50b5\u91d1\u5229"
     ]
    },
    {
     "cell_type": "markdown",
     "metadata": {},
     "source": [
      "## econtip\n",
      "\n",
      "2015\u5e742\u670824\u65e5\n",
      "\n",
      "[\u7d4c\u6e08\u307e\u3081\u77e5\u8b58](http://econ.mokuren.ne.jp/wiki)"
     ]
    },
    {
     "cell_type": "markdown",
     "metadata": {},
     "source": [
      "\u56fd\u50b5\u91d1\u5229\u306e\u30b0\u30e9\u30d5\u3092\u63cf\u304f\u3002\n",
      "\n",
      "* \u4f7f\u7528\u3057\u305f\u30c7\u30fc\u30bf\uff1a [\u56fd\u50b5\u91d1\u5229\u60c5\u5831 \uff08\u8ca1\u52d9\u7701\uff09](http://www.mof.go.jp/jgbs/reference/interest_rate/)\n",
      "* \u95a2\u9023\u60c5\u5831\uff1a [\u5897\u7a0e\u5148\u9001\u308a \u3053\u306e\u7a0b\u5ea6\u3067\u91d1\u5229\u300c\u66b4\u9a30\u300d\u3067\u3059\u304b\uff1f](http://wedge.ismedia.jp/articles/-/4459)\n",
      "\n",
      "[\u4ee5\u524d\u66f8\u3044\u305f\u30b9\u30af\u30ea\u30d7\u30c8](http://d.hatena.ne.jp/rioikt/20130525/1369512080)\u3092\u5143\u306b\u4f5c\u6210\u3002"
     ]
    },
    {
     "cell_type": "markdown",
     "metadata": {},
     "source": [
      "\u91d1\u5229\u306e\u4e0a\u6607\u306f\u56fd\u50b5\u4fa1\u683c\u306e\u4f4e\u4e0b\u3092\u610f\u5473\u3059\u308b\u3053\u3068\u306b\u6ce8\u610f\u3002"
     ]
    },
    {
     "cell_type": "heading",
     "level": 2,
     "metadata": {},
     "source": [
      "0. \u6e96\u5099"
     ]
    },
    {
     "cell_type": "code",
     "collapsed": false,
     "input": [
      "import numpy as np\n",
      "import pandas as pd\n",
      "import matplotlib.pyplot as plt\n",
      "import urllib2"
     ],
     "language": "python",
     "metadata": {},
     "outputs": [],
     "prompt_number": 1
    },
    {
     "cell_type": "code",
     "collapsed": false,
     "input": [
      "%matplotlib inline"
     ],
     "language": "python",
     "metadata": {},
     "outputs": [],
     "prompt_number": 2
    },
    {
     "cell_type": "heading",
     "level": 2,
     "metadata": {},
     "source": [
      "1. \u30c7\u30fc\u30bf\u53d6\u5f97"
     ]
    },
    {
     "cell_type": "code",
     "collapsed": false,
     "input": [
      "uri = 'http://www.mof.go.jp/jgbs/reference/interest_rate/data/jgbcm_all.csv'"
     ],
     "language": "python",
     "metadata": {},
     "outputs": [],
     "prompt_number": 3
    },
    {
     "cell_type": "code",
     "collapsed": false,
     "input": [
      "r = urllib2.urlopen(uri)\n",
      "df1 = pd.read_csv(r, encoding='sjis')\n",
      "r.close()"
     ],
     "language": "python",
     "metadata": {},
     "outputs": [],
     "prompt_number": 4
    },
    {
     "cell_type": "heading",
     "level": 2,
     "metadata": {},
     "source": [
      "2. \u30c7\u30fc\u30bf\u306e\u6574\u5f62"
     ]
    },
    {
     "cell_type": "heading",
     "level": 3,
     "metadata": {},
     "source": [
      "2.1. \u4e2d\u8eab\u3092\u78ba\u8a8d"
     ]
    },
    {
     "cell_type": "markdown",
     "metadata": {},
     "source": [
      "\u59cb\u3081\u306e\u65b9\u306e\u884c\u3092\u8868\u793a"
     ]
    },
    {
     "cell_type": "code",
     "collapsed": false,
     "input": [
      "df1.head()"
     ],
     "language": "python",
     "metadata": {},
     "outputs": [
      {
       "html": [
        "<div style=\"max-height:1000px;max-width:1500px;overflow:auto;\">\n",
        "<table border=\"1\" class=\"dataframe\">\n",
        "  <thead>\n",
        "    <tr style=\"text-align: right;\">\n",
        "      <th></th>\n",
        "      <th>\u57fa\u6e96\u65e5</th>\n",
        "      <th>1</th>\n",
        "      <th>2</th>\n",
        "      <th>3</th>\n",
        "      <th>4</th>\n",
        "      <th>5</th>\n",
        "      <th>6</th>\n",
        "      <th>7</th>\n",
        "      <th>8</th>\n",
        "      <th>9</th>\n",
        "      <th>10</th>\n",
        "      <th>15</th>\n",
        "      <th>20</th>\n",
        "      <th>25</th>\n",
        "      <th>30</th>\n",
        "      <th>40</th>\n",
        "    </tr>\n",
        "  </thead>\n",
        "  <tbody>\n",
        "    <tr>\n",
        "      <th>0</th>\n",
        "      <td> S49.9.24</td>\n",
        "      <td> 10.327</td>\n",
        "      <td> 9.362</td>\n",
        "      <td>  8.83</td>\n",
        "      <td> 8.515</td>\n",
        "      <td> 8.348</td>\n",
        "      <td> 8.290</td>\n",
        "      <td> 8.24</td>\n",
        "      <td> 8.121</td>\n",
        "      <td> 8.127</td>\n",
        "      <td> -</td>\n",
        "      <td> -</td>\n",
        "      <td> -</td>\n",
        "      <td> -</td>\n",
        "      <td> -</td>\n",
        "      <td> -</td>\n",
        "    </tr>\n",
        "    <tr>\n",
        "      <th>1</th>\n",
        "      <td> S49.9.25</td>\n",
        "      <td> 10.333</td>\n",
        "      <td> 9.364</td>\n",
        "      <td> 8.831</td>\n",
        "      <td> 8.516</td>\n",
        "      <td> 8.348</td>\n",
        "      <td> 8.290</td>\n",
        "      <td> 8.24</td>\n",
        "      <td> 8.121</td>\n",
        "      <td> 8.127</td>\n",
        "      <td> -</td>\n",
        "      <td> -</td>\n",
        "      <td> -</td>\n",
        "      <td> -</td>\n",
        "      <td> -</td>\n",
        "      <td> -</td>\n",
        "    </tr>\n",
        "    <tr>\n",
        "      <th>2</th>\n",
        "      <td> S49.9.26</td>\n",
        "      <td>  10.34</td>\n",
        "      <td> 9.366</td>\n",
        "      <td> 8.832</td>\n",
        "      <td> 8.516</td>\n",
        "      <td> 8.348</td>\n",
        "      <td> 8.290</td>\n",
        "      <td> 8.24</td>\n",
        "      <td> 8.122</td>\n",
        "      <td> 8.128</td>\n",
        "      <td> -</td>\n",
        "      <td> -</td>\n",
        "      <td> -</td>\n",
        "      <td> -</td>\n",
        "      <td> -</td>\n",
        "      <td> -</td>\n",
        "    </tr>\n",
        "    <tr>\n",
        "      <th>3</th>\n",
        "      <td> S49.9.27</td>\n",
        "      <td> 10.347</td>\n",
        "      <td> 9.367</td>\n",
        "      <td> 8.833</td>\n",
        "      <td> 8.517</td>\n",
        "      <td> 8.349</td>\n",
        "      <td> 8.290</td>\n",
        "      <td> 8.24</td>\n",
        "      <td> 8.122</td>\n",
        "      <td> 8.128</td>\n",
        "      <td> -</td>\n",
        "      <td> -</td>\n",
        "      <td> -</td>\n",
        "      <td> -</td>\n",
        "      <td> -</td>\n",
        "      <td> -</td>\n",
        "    </tr>\n",
        "    <tr>\n",
        "      <th>4</th>\n",
        "      <td> S49.9.28</td>\n",
        "      <td> 10.354</td>\n",
        "      <td> 9.369</td>\n",
        "      <td> 8.834</td>\n",
        "      <td> 8.518</td>\n",
        "      <td> 8.349</td>\n",
        "      <td> 8.291</td>\n",
        "      <td> 8.24</td>\n",
        "      <td> 8.122</td>\n",
        "      <td> 8.129</td>\n",
        "      <td> -</td>\n",
        "      <td> -</td>\n",
        "      <td> -</td>\n",
        "      <td> -</td>\n",
        "      <td> -</td>\n",
        "      <td> -</td>\n",
        "    </tr>\n",
        "  </tbody>\n",
        "</table>\n",
        "</div>"
       ],
       "metadata": {},
       "output_type": "pyout",
       "prompt_number": 5,
       "text": [
        "        \u57fa\u6e96\u65e5       1      2      3      4      5      6     7      8      9 10  \\\n",
        "0  S49.9.24  10.327  9.362   8.83  8.515  8.348  8.290  8.24  8.121  8.127  -   \n",
        "1  S49.9.25  10.333  9.364  8.831  8.516  8.348  8.290  8.24  8.121  8.127  -   \n",
        "2  S49.9.26   10.34  9.366  8.832  8.516  8.348  8.290  8.24  8.122  8.128  -   \n",
        "3  S49.9.27  10.347  9.367  8.833  8.517  8.349  8.290  8.24  8.122  8.128  -   \n",
        "4  S49.9.28  10.354  9.369  8.834  8.518  8.349  8.291  8.24  8.122  8.129  -   \n",
        "\n",
        "  15 20 25 30 40  \n",
        "0  -  -  -  -  -  \n",
        "1  -  -  -  -  -  \n",
        "2  -  -  -  -  -  \n",
        "3  -  -  -  -  -  \n",
        "4  -  -  -  -  -  "
       ]
      }
     ],
     "prompt_number": 5
    },
    {
     "cell_type": "markdown",
     "metadata": {},
     "source": [
      "\u5f8c\u308d\u306e\u65b9\u306e\u884c\u3092\u8868\u793a"
     ]
    },
    {
     "cell_type": "code",
     "collapsed": false,
     "input": [
      "df1.tail()"
     ],
     "language": "python",
     "metadata": {},
     "outputs": [
      {
       "html": [
        "<div style=\"max-height:1000px;max-width:1500px;overflow:auto;\">\n",
        "<table border=\"1\" class=\"dataframe\">\n",
        "  <thead>\n",
        "    <tr style=\"text-align: right;\">\n",
        "      <th></th>\n",
        "      <th>\u57fa\u6e96\u65e5</th>\n",
        "      <th>1</th>\n",
        "      <th>2</th>\n",
        "      <th>3</th>\n",
        "      <th>4</th>\n",
        "      <th>5</th>\n",
        "      <th>6</th>\n",
        "      <th>7</th>\n",
        "      <th>8</th>\n",
        "      <th>9</th>\n",
        "      <th>10</th>\n",
        "      <th>15</th>\n",
        "      <th>20</th>\n",
        "      <th>25</th>\n",
        "      <th>30</th>\n",
        "      <th>40</th>\n",
        "    </tr>\n",
        "  </thead>\n",
        "  <tbody>\n",
        "    <tr>\n",
        "      <th>10455</th>\n",
        "      <td> H27.1.26</td>\n",
        "      <td> -0.017</td>\n",
        "      <td> -0.016</td>\n",
        "      <td> -0.007</td>\n",
        "      <td>-0.003</td>\n",
        "      <td> 0.011</td>\n",
        "      <td> 0.005</td>\n",
        "      <td> 0.040</td>\n",
        "      <td> 0.104</td>\n",
        "      <td> 0.170</td>\n",
        "      <td> 0.229</td>\n",
        "      <td> 0.627</td>\n",
        "      <td>  1.06</td>\n",
        "      <td> 1.249</td>\n",
        "      <td> 1.331</td>\n",
        "      <td> 1.441</td>\n",
        "    </tr>\n",
        "    <tr>\n",
        "      <th>10456</th>\n",
        "      <td> H27.1.27</td>\n",
        "      <td> -0.008</td>\n",
        "      <td> -0.005</td>\n",
        "      <td>  0.005</td>\n",
        "      <td> 0.015</td>\n",
        "      <td> 0.037</td>\n",
        "      <td> 0.041</td>\n",
        "      <td> 0.083</td>\n",
        "      <td> 0.151</td>\n",
        "      <td> 0.210</td>\n",
        "      <td> 0.269</td>\n",
        "      <td> 0.658</td>\n",
        "      <td> 1.065</td>\n",
        "      <td>  1.25</td>\n",
        "      <td> 1.332</td>\n",
        "      <td> 1.445</td>\n",
        "    </tr>\n",
        "    <tr>\n",
        "      <th>10457</th>\n",
        "      <td> H27.1.28</td>\n",
        "      <td>  0.006</td>\n",
        "      <td>  0.003</td>\n",
        "      <td>  0.022</td>\n",
        "      <td> 0.035</td>\n",
        "      <td> 0.058</td>\n",
        "      <td> 0.062</td>\n",
        "      <td> 0.105</td>\n",
        "      <td> 0.176</td>\n",
        "      <td> 0.236</td>\n",
        "      <td> 0.293</td>\n",
        "      <td> 0.667</td>\n",
        "      <td> 1.056</td>\n",
        "      <td> 1.225</td>\n",
        "      <td> 1.309</td>\n",
        "      <td> 1.424</td>\n",
        "    </tr>\n",
        "    <tr>\n",
        "      <th>10458</th>\n",
        "      <td> H27.1.29</td>\n",
        "      <td>  0.005</td>\n",
        "      <td>  0.005</td>\n",
        "      <td>  0.021</td>\n",
        "      <td> 0.035</td>\n",
        "      <td> 0.051</td>\n",
        "      <td> 0.057</td>\n",
        "      <td> 0.099</td>\n",
        "      <td> 0.171</td>\n",
        "      <td> 0.236</td>\n",
        "      <td> 0.293</td>\n",
        "      <td> 0.666</td>\n",
        "      <td> 1.064</td>\n",
        "      <td>  1.23</td>\n",
        "      <td> 1.313</td>\n",
        "      <td> 1.428</td>\n",
        "    </tr>\n",
        "    <tr>\n",
        "      <th>10459</th>\n",
        "      <td> H27.1.30</td>\n",
        "      <td>  0.009</td>\n",
        "      <td>   0.01</td>\n",
        "      <td>  0.023</td>\n",
        "      <td> 0.032</td>\n",
        "      <td> 0.046</td>\n",
        "      <td> 0.045</td>\n",
        "      <td> 0.081</td>\n",
        "      <td> 0.156</td>\n",
        "      <td> 0.225</td>\n",
        "      <td> 0.288</td>\n",
        "      <td> 0.656</td>\n",
        "      <td> 1.054</td>\n",
        "      <td> 1.216</td>\n",
        "      <td> 1.299</td>\n",
        "      <td> 1.415</td>\n",
        "    </tr>\n",
        "  </tbody>\n",
        "</table>\n",
        "</div>"
       ],
       "metadata": {},
       "output_type": "pyout",
       "prompt_number": 6,
       "text": [
        "            \u57fa\u6e96\u65e5       1       2       3      4      5      6      7      8  \\\n",
        "10455  H27.1.26  -0.017  -0.016  -0.007 -0.003  0.011  0.005  0.040  0.104   \n",
        "10456  H27.1.27  -0.008  -0.005   0.005  0.015  0.037  0.041  0.083  0.151   \n",
        "10457  H27.1.28   0.006   0.003   0.022  0.035  0.058  0.062  0.105  0.176   \n",
        "10458  H27.1.29   0.005   0.005   0.021  0.035  0.051  0.057  0.099  0.171   \n",
        "10459  H27.1.30   0.009    0.01   0.023  0.032  0.046  0.045  0.081  0.156   \n",
        "\n",
        "           9     10     15     20     25     30     40  \n",
        "10455  0.170  0.229  0.627   1.06  1.249  1.331  1.441  \n",
        "10456  0.210  0.269  0.658  1.065   1.25  1.332  1.445  \n",
        "10457  0.236  0.293  0.667  1.056  1.225  1.309  1.424  \n",
        "10458  0.236  0.293  0.666  1.064   1.23  1.313  1.428  \n",
        "10459  0.225  0.288  0.656  1.054  1.216  1.299  1.415  "
       ]
      }
     ],
     "prompt_number": 6
    },
    {
     "cell_type": "markdown",
     "metadata": {},
     "source": [
      "**\u6570\u5024\u304c\u306a\u3044\u5834\u5408\u306f\u300c-\u300d\u304c\u5165\u529b\u3055\u308c\u3066\u3044\u308b\u3053\u3068\u304c\u78ba\u8a8d\u3067\u304d\u308b\u3002**"
     ]
    },
    {
     "cell_type": "heading",
     "level": 3,
     "metadata": {},
     "source": [
      "2.2. \u5143\u53f7\u3092\u897f\u66a6\u306b\u76f4\u3059\u95a2\u6570\u3092\u4f5c\u308b"
     ]
    },
    {
     "cell_type": "code",
     "collapsed": false,
     "input": [
      "def je2ad(h):\n",
      "    plusyear = {'S': 1925, 'H': 1988}\n",
      "    d = h[1:].split('.')\n",
      "    ad = str(int(d[0]) + plusyear[h[0]])\n",
      "    d[0] = ad\n",
      "    return '-'.join(d)"
     ],
     "language": "python",
     "metadata": {},
     "outputs": [],
     "prompt_number": 7
    },
    {
     "cell_type": "markdown",
     "metadata": {},
     "source": [
      "\u52d5\u4f5c\u78ba\u8a8d"
     ]
    },
    {
     "cell_type": "code",
     "collapsed": false,
     "input": [
      "je2ad('S47.1.29')"
     ],
     "language": "python",
     "metadata": {},
     "outputs": [
      {
       "metadata": {},
       "output_type": "pyout",
       "prompt_number": 8,
       "text": [
        "'1972-1-29'"
       ]
      }
     ],
     "prompt_number": 8
    },
    {
     "cell_type": "code",
     "collapsed": false,
     "input": [
      "je2ad('H27.2.24')"
     ],
     "language": "python",
     "metadata": {},
     "outputs": [
      {
       "metadata": {},
       "output_type": "pyout",
       "prompt_number": 9,
       "text": [
        "'2015-2-24'"
       ]
      }
     ],
     "prompt_number": 9
    },
    {
     "cell_type": "heading",
     "level": 3,
     "metadata": {},
     "source": [
      "2.3. \u30c7\u30fc\u30bf\u3092\u6570\u5024\u306b\u5909\u63db\u3059\u308b\u95a2\u6570\u3092\u4f5c\u308b"
     ]
    },
    {
     "cell_type": "code",
     "collapsed": false,
     "input": [
      "toNum = lambda x: np.NaN if x == u'-' else float(x)"
     ],
     "language": "python",
     "metadata": {},
     "outputs": [],
     "prompt_number": 10
    },
    {
     "cell_type": "markdown",
     "metadata": {},
     "source": [
      "\u52d5\u4f5c\u78ba\u8a8d"
     ]
    },
    {
     "cell_type": "code",
     "collapsed": false,
     "input": [
      "toNum(u'-')"
     ],
     "language": "python",
     "metadata": {},
     "outputs": [
      {
       "metadata": {},
       "output_type": "pyout",
       "prompt_number": 11,
       "text": [
        "nan"
       ]
      }
     ],
     "prompt_number": 11
    },
    {
     "cell_type": "code",
     "collapsed": false,
     "input": [
      "toNum(u'123.45')"
     ],
     "language": "python",
     "metadata": {},
     "outputs": [
      {
       "metadata": {},
       "output_type": "pyout",
       "prompt_number": 12,
       "text": [
        "123.45"
       ]
      }
     ],
     "prompt_number": 12
    },
    {
     "cell_type": "heading",
     "level": 3,
     "metadata": {},
     "source": [
      "2.4. \u30c7\u30fc\u30bf\u6574\u5f62"
     ]
    },
    {
     "cell_type": "code",
     "collapsed": false,
     "input": [
      "dates = pd.to_datetime(df1[u'\u57fa\u6e96\u65e5'].map(je2ad))\n",
      "dates.name = 'Date'\n",
      "df2 = df1[df1.columns[1:]].set_index(dates)"
     ],
     "language": "python",
     "metadata": {},
     "outputs": [],
     "prompt_number": 13
    },
    {
     "cell_type": "code",
     "collapsed": false,
     "input": [
      "df3 = df2.applymap(toNum)"
     ],
     "language": "python",
     "metadata": {},
     "outputs": [
      {
       "output_type": "stream",
       "stream": "stderr",
       "text": [
        "-c:1: UnicodeWarning: Unicode equal comparison failed to convert both arguments to Unicode - interpreting them as being unequal\n"
       ]
      }
     ],
     "prompt_number": 14
    },
    {
     "cell_type": "heading",
     "level": 2,
     "metadata": {},
     "source": [
      "3. \u91d1\u5229\u306e\u30b0\u30e9\u30d5"
     ]
    },
    {
     "cell_type": "heading",
     "level": 3,
     "metadata": {},
     "source": [
      "1980\u5e74\u4ee5\u964d\u306e1\u5e74\u7269\u30015\u5e74\u7269\u300110\u5e74\u7269\u306e\u56fd\u50b5\u91d1\u5229\u306e\u30b0\u30e9\u30d5"
     ]
    },
    {
     "cell_type": "code",
     "collapsed": false,
     "input": [
      "df3['1980-1-1':][[0,4,9]].plot()"
     ],
     "language": "python",
     "metadata": {},
     "outputs": [
      {
       "metadata": {},
       "output_type": "pyout",
       "prompt_number": 15,
       "text": [
        "<matplotlib.axes._subplots.AxesSubplot at 0x107b9a850>"
       ]
      },
      {
       "metadata": {},
       "output_type": "display_data",
       "png": "[encoded data removed]",
       "text": [
        "<matplotlib.figure.Figure at 0x107a1ca90>"
       ]
      }
     ],
     "prompt_number": 15
    },
    {
     "cell_type": "heading",
     "level": 3,
     "metadata": {},
     "source": [
      "2014\u5e74\u4ee5\u964d\u306e1\u5e74\u7269\u30015\u5e74\u7269\u300110\u5e74\u7269\u306e\u56fd\u50b5\u91d1\u5229\u306e\u30b0\u30e9\u30d5"
     ]
    },
    {
     "cell_type": "code",
     "collapsed": false,
     "input": [
      "df3['2014-1-1':][[0,4,9]].plot()"
     ],
     "language": "python",
     "metadata": {},
     "outputs": [
      {
       "metadata": {},
       "output_type": "pyout",
       "prompt_number": 16,
       "text": [
        "<matplotlib.axes._subplots.AxesSubplot at 0x107b9ae90>"
       ]
      },
      {
       "metadata": {},
       "output_type": "display_data",
       "png": "[encoded data removed]",
       "text": [
        "<matplotlib.figure.Figure at 0x10a86c250>"
       ]
      }
     ],
     "prompt_number": 16
    }
   ],
   "metadata": {}
  }
 ]
}